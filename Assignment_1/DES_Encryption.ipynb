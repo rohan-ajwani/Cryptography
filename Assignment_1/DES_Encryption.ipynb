{
  "nbformat": 4,
  "nbformat_minor": 0,
  "metadata": {
    "colab": {
      "provenance": []
    },
    "kernelspec": {
      "name": "python3",
      "display_name": "Python 3"
    }
  },
  "cells": [
    {
      "cell_type": "code",
      "metadata": {
        "id": "lVZ5vA5oRvwj"
      },
      "source": [
        "import numpy as np"
      ],
      "execution_count": null,
      "outputs": []
    },
    {
      "cell_type": "code",
      "metadata": {
        "id": "ixwT8PkhZuSX",
        "colab": {
          "base_uri": "https://localhost:8080/",
          "height": 52
        },
        "outputId": "d5f181b9-ed0a-4c2d-fe28-1e66dc9bb88c"
      },
      "source": [
        "plaintext = input()\n",
        "K_64 = input()"
      ],
      "execution_count": null,
      "outputs": [
        {
          "output_type": "stream",
          "text": [
            "0123456789ABCDEF\n",
            "133457799BBCDFF1\n"
          ],
          "name": "stdout"
        }
      ]
    },
    {
      "cell_type": "code",
      "metadata": {
        "id": "KfkgSjS8lKWe"
      },
      "source": [
        "PC1 = np.array([57, 49, 41, 33, 25, 17, 9,\n",
        "                1, 58, 50, 42, 34, 26, 18,\n",
        "                10, 2, 59, 51, 43, 35, 27,\n",
        "                19, 11, 3, 60, 52, 44, 36,\n",
        "                63, 55, 47, 39, 31, 23, 15,\n",
        "                7, 62, 54, 46, 38, 30, 22,\n",
        "                14, 6, 61, 53, 45, 37, 29,\n",
        "                21, 13, 5, 28, 20, 12, 4])\n",
        "\n",
        "PC2 = np.array([14, 17, 11, 24, 1, 5,\n",
        "                3, 28, 15, 6, 21, 10,\n",
        "                23, 19, 12, 4, 26, 8,\n",
        "                16, 7, 27, 20, 13, 2,\n",
        "                41, 52, 31, 37, 47, 55,\n",
        "                30, 40, 51, 45, 33, 48,\n",
        "                44, 49, 39, 56, 34, 53,\n",
        "                46, 42, 50, 36, 29, 32])\n",
        "\n",
        "IP = np.array([58, 50, 42, 34, 26, 18, 10, 2,\n",
        "              60, 52, 44, 36, 28, 20, 12, 4,\n",
        "              62, 54, 46, 38, 30, 22, 14, 6,\n",
        "              64, 56, 48, 40, 32, 24, 16, 8,\n",
        "              57, 49, 41, 33, 25, 17,  9, 1,\n",
        "              59, 51, 43, 35, 27, 19, 11, 3,\n",
        "              61, 53, 45, 37, 29, 21, 13, 5,\n",
        "              63, 55, 47, 39, 31, 23, 15, 7])\n",
        "\n",
        "Expansion = np.array([32, 1, 2, 3, 4, 5, 4, 5,\n",
        "                      6, 7, 8, 9, 8, 9, 10, 11,\n",
        "                      12, 13, 12, 13, 14, 15, 16, 17,\n",
        "                      16, 17, 18, 19, 20, 21, 20, 21,\n",
        "                      22, 23, 24, 25, 24, 25, 26, 27,\n",
        "                      28, 29, 28, 29, 30, 31, 32, 1])\n",
        "\n",
        "SBox = np.array([\n",
        "     [\n",
        "     [14,  4, 13,  1,  2, 15, 11,  8,  3, 10,  6, 12,  5,  9,  0,  7],\n",
        "     [0, 15,  7,  4, 14,  2, 13,  1, 10,  6, 12, 11,  9,  5,  3,  8],\n",
        "     [4,  1, 14,  8, 13,  6,  2, 11, 15, 12,  9,  7,  3, 10,  5,  0],\n",
        "     [15, 12,  8,  2,  4,  9,  1,  7,  5, 11,  3, 14, 10,  0,  6, 13],\n",
        "     ],\n",
        " \n",
        "     [\n",
        "     [15,  1,  8, 14,  6, 11,  3,  4,  9,  7,  2, 13, 12,  0,  5, 10],\n",
        "     [3, 13,  4,  7, 15,  2,  8, 14, 12,  0,  1, 10,  6,  9, 11,  5],\n",
        "     [0, 14,  7, 11, 10,  4, 13,  1,  5,  8, 12,  6,  9,  3,  2, 15],\n",
        "     [13,  8, 10,  1,  3, 15,  4,  2, 11,  6,  7, 12,  0,  5, 14,  9],\n",
        "     ],\n",
        " \n",
        "     [\n",
        "     [10,  0,  9, 14,  6,  3, 15,  5,  1, 13, 12,  7, 11,  4,  2,  8],\n",
        "     [13,  7,  0,  9,  3,  4,  6, 10,  2,  8,  5, 14, 12, 11, 15,  1],\n",
        "     [13,  6,  4,  9,  8, 15,  3,  0, 11,  1,  2, 12,  5, 10, 14,  7],\n",
        "     [1, 10, 13,  0,  6,  9,  8,  7,  4, 15, 14,  3, 11,  5,  2, 12],\n",
        "     ],\n",
        " \n",
        "     [\n",
        "     [7, 13, 14,  3,  0,  6,  9, 10,  1,  2,  8,  5, 11, 12,  4, 15],\n",
        "     [13,  8, 11,  5,  6, 15,  0,  3,  4,  7,  2, 12,  1, 10, 14,  9],\n",
        "     [10,  6,  9,  0, 12, 11,  7, 13, 15,  1,  3, 14,  5,  2,  8,  4],\n",
        "     [3, 15,  0,  6, 10,  1, 13,  8,  9,  4,  5, 11, 12,  7,  2, 14],\n",
        "     ],\n",
        " \n",
        "     [\n",
        "     [2, 12,  4,  1,  7, 10, 11,  6,  8,  5,  3, 15, 13,  0, 14,  9],\n",
        "     [14, 11,  2, 12,  4,  7, 13,  1,  5,  0, 15, 10,  3,  9,  8,  6],\n",
        "     [4,  2,  1, 11, 10, 13,  7,  8, 15,  9, 12,  5,  6,  3,  0, 14],\n",
        "     [11,  8, 12,  7,  1, 14,  2, 13,  6, 15,  0,  9, 10,  4,  5,  3],\n",
        "     ],\n",
        " \n",
        "     [\n",
        "     [12,  1, 10, 15,  9,  2,  6,  8,  0, 13,  3,  4, 14,  7,  5, 11],\n",
        "     [10, 15,  4,  2,  7, 12,  9,  5,  6,  1, 13, 14,  0, 11,  3,  8],\n",
        "     [9, 14, 15,  5,  2,  8, 12,  3,  7,  0,  4, 10,  1, 13, 11,  6],\n",
        "     [4,  3,  2, 12,  9,  5, 15, 10, 11, 14,  1,  7,  6,  0,  8, 13],\n",
        "     ],\n",
        " \n",
        "     [\n",
        "     [4, 11,  2, 14, 15,  0,  8, 13,  3, 12,  9,  7,  5, 10,  6,  1],\n",
        "     [13,  0, 11,  7,  4,  9,  1, 10, 14,  3,  5, 12,  2, 15,  8,  6],\n",
        "     [1,  4, 11, 13, 12,  3,  7, 14, 10, 15,  6,  8,  0,  5,  9,  2],\n",
        "     [6, 11, 13,  8,  1,  4, 10,  7,  9,  5,  0, 15, 14,  2,  3, 12],\n",
        "     ],\n",
        " \n",
        "     [\n",
        "     [13,  2,  8,  4,  6, 15, 11,  1, 10,  9,  3, 14,  5,  0, 12,  7],\n",
        "     [1, 15, 13,  8, 10,  3,  7,  4, 12,  5,  6, 11,  0, 14,  9,  2],\n",
        "     [7, 11,  4,  1,  9, 12, 14,  2,  0,  6, 10, 13, 15,  3,  5,  8],\n",
        "     [2,  1, 14,  7,  4, 10,  8, 13, 15, 12,  9,  0,  3,  5,  6, 11],\n",
        "     ],])\n",
        "\n",
        "PBox = np.array([16, 7, 20, 21, 29, 12, 28, 17,\n",
        "                  1, 15, 23, 26, 5, 18, 31, 10,\n",
        "                  2, 8, 24, 14, 32, 27, 3, 9,\n",
        "                  19, 13, 30, 6, 22, 11, 4, 25])\n",
        "\n",
        "shift = np.array([1,1,2,2,\n",
        "                  2,2,2,2,\n",
        "                  1,2,2,2,\n",
        "                  2,2,2,1])"
      ],
      "execution_count": null,
      "outputs": []
    },
    {
      "cell_type": "code",
      "metadata": {
        "id": "OVko1vfzcJmX"
      },
      "source": [
        "def hex2bin(hexadecimal): \n",
        "    table = {'0' : '0000',  \n",
        "          '1' : '0001', \n",
        "          '2' : '0010',  \n",
        "          '3' : '0011', \n",
        "          '4' : '0100', \n",
        "          '5' : '0101',  \n",
        "          '6' : '0110', \n",
        "          '7' : '0111',  \n",
        "          '8' : '1000', \n",
        "          '9' : '1001',  \n",
        "          'A' : '1010', \n",
        "          'B' : '1011',  \n",
        "          'C' : '1100', \n",
        "          'D' : '1101',  \n",
        "          'E' : '1110', \n",
        "          'F' : '1111' } \n",
        "    binary = ''\n",
        "    for i in range(len(hexadecimal)): \n",
        "        binary = binary + table[hexadecimal[i]] \n",
        "    return binary"
      ],
      "execution_count": null,
      "outputs": []
    },
    {
      "cell_type": "code",
      "metadata": {
        "id": "LMCYyW8qcrqn"
      },
      "source": [
        "def bin2hex(binary):                          \n",
        "    table = {'0000' : '0',  \n",
        "          '0001' : '1', \n",
        "          '0010' : '2',  \n",
        "          '0011' : '3', \n",
        "          '0100' : '4', \n",
        "          '0101' : '5',  \n",
        "          '0110' : '6', \n",
        "          '0111' : '7',  \n",
        "          '1000' : '8', \n",
        "          '1001' : '9',  \n",
        "          '1010' : 'A', \n",
        "          '1011' : 'B',  \n",
        "          '1100' : 'C', \n",
        "          '1101' : 'D',  \n",
        "          '1110' : 'E', \n",
        "          '1111' : 'F' } \n",
        "    hexadecimal = ''\n",
        "    for i in range(0,len(binary),4): \n",
        "        s = \"\"\n",
        "        for j in range(4):\n",
        "          s = s + binary[i+j]  \n",
        "        hexadecimal = hexadecimal + table[s] \n",
        "          \n",
        "    return hexadecimal"
      ],
      "execution_count": null,
      "outputs": []
    },
    {
      "cell_type": "code",
      "metadata": {
        "id": "hKg6DTcicr-V"
      },
      "source": [
        "def bin2dec(binary):    \n",
        "    decimal=0\n",
        "    i = 0 \n",
        "    n = 0\n",
        "    while(binary != 0):  \n",
        "        digit = binary % 10\n",
        "        decimal = decimal + digit*(2**i) \n",
        "        binary = binary//10\n",
        "        i += 1\n",
        "    return decimal"
      ],
      "execution_count": null,
      "outputs": []
    },
    {
      "cell_type": "code",
      "metadata": {
        "id": "oZMKaYHPcsLj"
      },
      "source": [
        "def dec2bin(decimal):  \n",
        "    hexa = str(hex(decimal)).replace('0x', '') \n",
        "    if(decimal>9):\n",
        "      hexa = chr(ord(hexa)+ord('A')-ord('a'))\n",
        "    return hex2bin(hexa)"
      ],
      "execution_count": null,
      "outputs": []
    },
    {
      "cell_type": "code",
      "metadata": {
        "id": "t1d6SXSmR7Tf",
        "colab": {
          "base_uri": "https://localhost:8080/",
          "height": 52
        },
        "outputId": "be336be5-6a3f-49c4-d047-7c03bbf230b6"
      },
      "source": [
        "K_64 = hex2bin(K_64)\n"
      ],
      "execution_count": null,
      "outputs": [
        {
          "output_type": "stream",
          "text": [
            "133457799BBCDFF1\n",
            "\n"
          ],
          "name": "stdout"
        }
      ]
    },
    {
      "cell_type": "code",
      "metadata": {
        "id": "DpXxxh__SrJP"
      },
      "source": [
        "def permutation(orig, table, length): \n",
        "    permuted = ''\n",
        "    for i in range(length): \n",
        "        permuted = permuted + orig[table[i] - 1] \n",
        "    return permuted"
      ],
      "execution_count": null,
      "outputs": []
    },
    {
      "cell_type": "code",
      "metadata": {
        "id": "d7uPV-v4Wpf-"
      },
      "source": [
        "K_56 = permutation(K_64, PC1, 56)"
      ],
      "execution_count": null,
      "outputs": []
    },
    {
      "cell_type": "code",
      "metadata": {
        "id": "OBnIAzKu_mLZ"
      },
      "source": [
        "def left_circular_shift(orig,bits):\n",
        "  L = orig[bits:]\n",
        "  R = orig[:bits]\n",
        "  left_shifted = L+R\n",
        "  return left_shifted"
      ],
      "execution_count": null,
      "outputs": []
    },
    {
      "cell_type": "code",
      "metadata": {
        "id": "QcQbYmFKHsuP"
      },
      "source": [
        "K1 = ''"
      ],
      "execution_count": null,
      "outputs": []
    },
    {
      "cell_type": "code",
      "metadata": {
        "id": "XKgEC3TvAYlP",
        "colab": {
          "base_uri": "https://localhost:8080/",
          "height": 295
        },
        "outputId": "233b9e12-6725-43fb-b8b3-26b2b18bb3a5"
      },
      "source": [
        "for i in range(16):\n",
        "  C = K_56[:28]\n",
        "  D = K_56[28:]\n",
        "  C = left_circular_shift(C, shift[i])\n",
        "  D = left_circular_shift(D, shift[i])\n",
        "  K_56 = C+D\n",
        "  #print(\"C:\",str(i+1),C)\n",
        "  #print(\"D:\",str(i+1),D)\n",
        "  #print(K_56)\n",
        "  K_48 = permutation(K_56, PC2, 48)\n",
        "  if(i==0):\n",
        "    K1 = K_48\n",
        "  print(bin2hex(K_48))"
      ],
      "execution_count": null,
      "outputs": [
        {
          "output_type": "stream",
          "text": [
            "1B02EFFC7072\n",
            "79AED9DBC9E5\n",
            "55FC8A42CF99\n",
            "72ADD6DB351D\n",
            "7CEC07EB53A8\n",
            "63A53E507B2F\n",
            "EC84B7F618BC\n",
            "F78A3AC13BFB\n",
            "E0DBEBEDE781\n",
            "B1F347BA464F\n",
            "215FD3DED386\n",
            "7571F59467E9\n",
            "97C5D1FABA41\n",
            "5F43B7F2E73A\n",
            "BF918D3D3F0A\n",
            "CB3D8B0E17F5\n"
          ],
          "name": "stdout"
        }
      ]
    },
    {
      "cell_type": "code",
      "metadata": {
        "id": "9tJhD-cTDb3n"
      },
      "source": [
        "Initial_Permutation = permutation(hex2bin(plaintext), IP, 64)\n",
        "L0 = Initial_Permutation[:32]\n",
        "R0 = Initial_Permutation[32:]"
      ],
      "execution_count": null,
      "outputs": []
    },
    {
      "cell_type": "code",
      "metadata": {
        "id": "i8_Vd0O5H-rO"
      },
      "source": [
        "def XOR(s1, s2):\n",
        "  xor = ''\n",
        "  for i in range(len(s1)):\n",
        "    if (s1[i]==s2[i]):\n",
        "      xor = xor + '0'\n",
        "    else:\n",
        "      xor = xor + '1'\n",
        "  return xor"
      ],
      "execution_count": null,
      "outputs": []
    },
    {
      "cell_type": "code",
      "metadata": {
        "id": "ZTk_iGqMIk_p"
      },
      "source": [
        "L1 = R0"
      ],
      "execution_count": null,
      "outputs": []
    },
    {
      "cell_type": "code",
      "metadata": {
        "id": "bbU6IYgZLIDD",
        "colab": {
          "base_uri": "https://localhost:8080/",
          "height": 35
        },
        "outputId": "e775583a-44ca-4475-b645-55952320d7bd"
      },
      "source": [
        "R1 = permutation(R0, Expansion, 48)\n",
        "R1 = XOR(R1,K1)\n",
        "R1_matrix = []\n",
        "for i in range(0,48,6):\n",
        "  R1_matrix.append(R1[i:(i+6)])\n",
        "\n",
        "j=0\n",
        "R1=\"\"\n",
        "for i in R1_matrix:\n",
        "  row = bin2dec(int(i[0]+i[5]))\n",
        "  col = bin2dec(int(i[1]+i[2]+i[3]+i[4]))\n",
        "  R1 = R1 + dec2bin(SBox[j][row][col])\n",
        "  j = j+1\n",
        "\n",
        "R1 = permutation(R1,PBox,32)\n",
        "\n",
        "R1 = XOR(R1,L0)\n",
        "\n",
        "print(bin2hex(L1+R1))"
      ],
      "execution_count": null,
      "outputs": [
        {
          "output_type": "stream",
          "text": [
            "F0AAF0AAEF4A6544\n"
          ],
          "name": "stdout"
        }
      ]
    },
    {
      "cell_type": "code",
      "metadata": {
        "id": "yeTAqlBFNHF6"
      },
      "source": [],
      "execution_count": null,
      "outputs": []
    },
    {
      "cell_type": "code",
      "metadata": {
        "id": "A-NVpaJ6X2h3"
      },
      "source": [],
      "execution_count": null,
      "outputs": []
    }
  ]
}