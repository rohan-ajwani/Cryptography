{
  "nbformat": 4,
  "nbformat_minor": 0,
  "metadata": {
    "colab": {
      "provenance": []
    },
    "kernelspec": {
      "name": "python3",
      "display_name": "Python 3"
    }
  },
  "cells": [
    {
      "cell_type": "code",
      "metadata": {
        "id": "UL_V4tmXvQdj"
      },
      "source": [
        "import numpy as np"
      ],
      "execution_count": null,
      "outputs": []
    },
    {
      "cell_type": "code",
      "metadata": {
        "id": "O_n71Cmc55pD",
        "colab": {
          "base_uri": "https://localhost:8080/",
          "height": 87
        },
        "outputId": "f11f1cbc-9818-403a-a4ad-913c381223ef"
      },
      "source": [
        "l_key = int(input())\n",
        "key = input()\n",
        "encrypted_key = input()\n",
        "plaintext = input()"
      ],
      "execution_count": null,
      "outputs": [
        {
          "output_type": "stream",
          "text": [
            "7\n",
            "4 3 1 2 5 6 7\n",
            "ttnaaptmtsuoaodwcoixknlypetz\n",
            "encryptthistextandsendittoalice\n"
          ],
          "name": "stdout"
        }
      ]
    },
    {
      "cell_type": "code",
      "metadata": {
        "id": "8xISxBxv6azR",
        "colab": {
          "base_uri": "https://localhost:8080/",
          "height": 35
        },
        "outputId": "c127fcd7-46cf-43fc-9526-d1641e1e03f1"
      },
      "source": [
        "key = key.replace(\" \",\"\")\n",
        "print(key)"
      ],
      "execution_count": null,
      "outputs": [
        {
          "output_type": "stream",
          "text": [
            "4312567\n"
          ],
          "name": "stdout"
        }
      ]
    },
    {
      "cell_type": "code",
      "metadata": {
        "id": "Ky8K4DR98Dqb",
        "colab": {
          "base_uri": "https://localhost:8080/",
          "height": 35
        },
        "outputId": "6213812b-c1da-45bc-fd18-0596e65f2faa"
      },
      "source": [
        "key_arranged = np.zeros(l_key, dtype=int)\n",
        "rows = len(encrypted_key)//l_key\n",
        "for i in range(l_key):\n",
        "  key_arranged[i] = key.find(chr(i+ord('1')))\n",
        "print(key_arranged[1])"
      ],
      "execution_count": null,
      "outputs": [
        {
          "output_type": "stream",
          "text": [
            "3\n"
          ],
          "name": "stdout"
        }
      ]
    },
    {
      "cell_type": "code",
      "metadata": {
        "id": "unHvnFiV87Bn",
        "colab": {
          "base_uri": "https://localhost:8080/",
          "height": 104
        },
        "outputId": "b16217ef-38c3-49e7-e96b-38334cf54302"
      },
      "source": [
        "key_matrix_encrypted = np.zeros([rows,l_key], dtype=int)\n",
        "\n",
        "k = 0\n",
        "\n",
        "for j in range(l_key):\n",
        "  for i in range(rows):\n",
        "    key_matrix_encrypted[i][key_arranged[j]] = ord(encrypted_key[k])\n",
        "    k+=1\n",
        "\n",
        "print(key_matrix_encrypted)\n",
        "\n",
        "decrypted_key = ''\n",
        "k=0\n",
        "for j in range(rows):\n",
        "  for i in range(l_key):\n",
        "    decrypted_key = decrypted_key + chr(key_matrix_encrypted[j][i]);\n",
        "\n",
        "print(decrypted_key)"
      ],
      "execution_count": null,
      "outputs": [
        {
          "output_type": "stream",
          "text": [
            "[[ 97 116 116  97  99 107 112]\n",
            " [111 115 116 112 111 110 101]\n",
            " [100 117 110 116 105 108 116]\n",
            " [119 111  97 109 120 121 122]]\n",
            "attackpostponeduntiltwoamxyz\n"
          ],
          "name": "stdout"
        }
      ]
    },
    {
      "cell_type": "code",
      "metadata": {
        "id": "E5jSegOFUHVt",
        "colab": {
          "base_uri": "https://localhost:8080/",
          "height": 35
        },
        "outputId": "90f1467e-d675-4166-90aa-f82feb406a32"
      },
      "source": [
        "a = np.zeros(len(plaintext), dtype=int)\n",
        "for i in range(len(plaintext)):\n",
        "  a[i] = (ord(plaintext[i])-ord('a') + ord(decrypted_key[i%(len(decrypted_key))])-ord('a'))%26\n",
        "\n",
        "vigenere = ''\n",
        "for i in a:\n",
        "  vigenere = vigenere+chr(i+ord('a'))\n",
        "\n",
        "print(vigenere)"
      ],
      "execution_count": null,
      "outputs": [
        {
          "output_type": "stream",
          "text": [
            "egvrazihzbhhrbwuawapgzwtflykivx\n"
          ],
          "name": "stdout"
        }
      ]
    },
    {
      "cell_type": "code",
      "metadata": {
        "id": "5vlJwfImZtV5"
      },
      "source": [],
      "execution_count": null,
      "outputs": []
    }
  ]
}