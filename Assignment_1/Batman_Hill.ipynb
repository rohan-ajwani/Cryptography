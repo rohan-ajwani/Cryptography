{
  "nbformat": 4,
  "nbformat_minor": 0,
  "metadata": {
    "colab": {
      "provenance": []
    },
    "kernelspec": {
      "name": "python3",
      "display_name": "Python 3"
    }
  },
  "cells": [
    {
      "cell_type": "code",
      "metadata": {
        "id": "jHpmClb4DhWg"
      },
      "source": [
        "import numpy as np\n",
        "from numpy.linalg import det, inv"
      ],
      "execution_count": 1,
      "outputs": []
    },
    {
      "cell_type": "code",
      "metadata": {
        "id": "rRbQyWO8D2yP",
        "outputId": "d0b769d7-67f3-4386-9aed-2f494c99cc72",
        "colab": {
          "base_uri": "https://localhost:8080/"
        }
      },
      "source": [
        "c = input()\n",
        "c_key = input()"
      ],
      "execution_count": 2,
      "outputs": [
        {
          "name": "stdout",
          "output_type": "stream",
          "text": [
            "ALYHAUKCRT\n",
            "RI JT\n"
          ]
        }
      ]
    },
    {
      "cell_type": "code",
      "metadata": {
        "id": "qe4xSNlaEgVc",
        "outputId": "6208dcb0-9fd7-4a7b-fde0-6ac7c1c8df51",
        "colab": {
          "base_uri": "https://localhost:8080/"
        }
      },
      "source": [
        "c_key = c_key.replace(\" \",\"\")\n",
        "print(c_key)"
      ],
      "execution_count": 3,
      "outputs": [
        {
          "output_type": "stream",
          "name": "stdout",
          "text": [
            "RIJT\n"
          ]
        }
      ]
    },
    {
      "cell_type": "code",
      "metadata": {
        "id": "ReTYjQlPFK1Y",
        "outputId": "d5e6d2db-a6d3-459e-c416-c0c8610dca38",
        "colab": {
          "base_uri": "https://localhost:8080/"
        }
      },
      "source": [
        "C_Key = np.array([[ord(c_key[0]),ord(c_key[1])],[ord(c_key[2]),ord(c_key[3])]], dtype=np.int32)\n",
        "C_Key = C_Key - 65\n",
        "print(C_Key)"
      ],
      "execution_count": 4,
      "outputs": [
        {
          "output_type": "stream",
          "name": "stdout",
          "text": [
            "[[17  8]\n",
            " [ 9 19]]\n"
          ]
        }
      ]
    },
    {
      "cell_type": "code",
      "metadata": {
        "id": "aD_q3TcXF0P7",
        "outputId": "160aefba-f1bb-40da-8220-c2bd086c7e4f",
        "colab": {
          "base_uri": "https://localhost:8080/"
        }
      },
      "source": [
        "P_Key = np.array([[ord('T'),ord('H')],[ord('H'),ord('E')]], dtype=np.int32)\n",
        "P_Key = P_Key - 65\n",
        "print(P_Key)"
      ],
      "execution_count": 5,
      "outputs": [
        {
          "output_type": "stream",
          "name": "stdout",
          "text": [
            "[[19  7]\n",
            " [ 7  4]]\n"
          ]
        }
      ]
    },
    {
      "cell_type": "code",
      "metadata": {
        "id": "Aze_cFB1Gk0I",
        "outputId": "c07440b4-5e15-4c48-a33f-48bf3714a835",
        "colab": {
          "base_uri": "https://localhost:8080/"
        }
      },
      "source": [
        "C_Key_Inv = det(C_Key)*inv(C_Key)\n",
        "C_Key_Inv = np.around(C_Key_Inv)\n",
        "C_Key_Inv = C_Key_Inv.astype(int)\n",
        "print(C_Key_Inv)"
      ],
      "execution_count": 6,
      "outputs": [
        {
          "output_type": "stream",
          "name": "stdout",
          "text": [
            "[[19 -8]\n",
            " [-9 17]]\n"
          ]
        }
      ]
    },
    {
      "cell_type": "code",
      "metadata": {
        "id": "0k2KYghUHN3l",
        "outputId": "4f26debb-fd39-41ce-cf0a-a83f74a889c9",
        "colab": {
          "base_uri": "https://localhost:8080/"
        }
      },
      "source": [
        "determinant = det(C_Key)\n",
        "determinant = int(round(determinant))\n",
        "determinant = determinant%26\n",
        "print(determinant)"
      ],
      "execution_count": 7,
      "outputs": [
        {
          "output_type": "stream",
          "name": "stdout",
          "text": [
            "17\n"
          ]
        }
      ]
    },
    {
      "cell_type": "code",
      "metadata": {
        "id": "x6ZO_0g2JZXW",
        "outputId": "689e21c2-0a12-44d7-eaed-ee194aa157ff",
        "colab": {
          "base_uri": "https://localhost:8080/"
        }
      },
      "source": [
        "inverse_determinant=0\n",
        "for i in range(26):\n",
        "  if(((i*determinant)%26)==1):\n",
        "    inverse_determinant=i\n",
        "    break\n",
        "print(inverse_determinant)"
      ],
      "execution_count": 8,
      "outputs": [
        {
          "output_type": "stream",
          "name": "stdout",
          "text": [
            "23\n"
          ]
        }
      ]
    },
    {
      "cell_type": "code",
      "metadata": {
        "id": "A6iGNQiVLtTu",
        "outputId": "31843a77-e0e3-40aa-86cd-52a1ffdf8065",
        "colab": {
          "base_uri": "https://localhost:8080/"
        }
      },
      "source": [
        "C_Key_Inv = inverse_determinant*C_Key_Inv\n",
        "C_Key_Inv = (C_Key_Inv%26)\n",
        "print(C_Key_Inv)"
      ],
      "execution_count": 9,
      "outputs": [
        {
          "output_type": "stream",
          "name": "stdout",
          "text": [
            "[[21 24]\n",
            " [ 1  1]]\n"
          ]
        }
      ]
    },
    {
      "cell_type": "code",
      "metadata": {
        "id": "IfjB0cKiP6vo",
        "outputId": "c235004f-f432-4ea1-ccc8-5073cf294ae0",
        "colab": {
          "base_uri": "https://localhost:8080/"
        }
      },
      "source": [
        "K_Inv = (np.dot(C_Key_Inv,P_Key))%26\n",
        "print(K_Inv)"
      ],
      "execution_count": 10,
      "outputs": [
        {
          "output_type": "stream",
          "name": "stdout",
          "text": [
            "[[21  9]\n",
            " [ 0 11]]\n"
          ]
        }
      ]
    },
    {
      "cell_type": "code",
      "metadata": {
        "id": "dcdutZSYL5gZ",
        "outputId": "8724f20d-f7a9-4412-b7cc-52ab7ddd5141",
        "colab": {
          "base_uri": "https://localhost:8080/"
        }
      },
      "source": [
        "length_cipher = len(c)\n",
        "\n",
        "if (length_cipher%2)!=0:\n",
        "  c = c+\"Z\"\n",
        "  length_cipher += 1\n",
        "\n",
        "C = np.zeros([int(length_cipher/2),2], dtype = int)\n",
        "\n",
        "j=0\n",
        "for i in range(0,length_cipher,2):\n",
        "  C[j][0] = ord(c[i])-65\n",
        "  i+=1\n",
        "  C[j][1] = ord(c[i])-65\n",
        "  j+=1\n",
        "\n",
        "print(C)"
      ],
      "execution_count": 11,
      "outputs": [
        {
          "output_type": "stream",
          "name": "stdout",
          "text": [
            "[[ 0 11]\n",
            " [24  7]\n",
            " [ 0 20]\n",
            " [10  2]\n",
            " [17 19]]\n"
          ]
        }
      ]
    },
    {
      "cell_type": "code",
      "metadata": {
        "id": "M3ZaMhdxOz6e",
        "outputId": "224508ec-b606-403d-9108-39915a0b5c77",
        "colab": {
          "base_uri": "https://localhost:8080/"
        }
      },
      "source": [
        "P = (np.dot(C,K_Inv))%26 + 65\n",
        "P = P.flatten()\n",
        "print(P)"
      ],
      "execution_count": 12,
      "outputs": [
        {
          "output_type": "stream",
          "name": "stdout",
          "text": [
            "[65 82 75 72 65 77 67 73 84 89]\n"
          ]
        }
      ]
    },
    {
      "cell_type": "code",
      "metadata": {
        "id": "I2y-iyDsQU1-",
        "outputId": "33a273bf-ff73-4108-ae2a-3092962574ae",
        "colab": {
          "base_uri": "https://localhost:8080/"
        }
      },
      "source": [
        "p=\"\"\n",
        "for i in P:\n",
        "  p = p+chr(i)\n",
        "print(p)"
      ],
      "execution_count": 13,
      "outputs": [
        {
          "output_type": "stream",
          "name": "stdout",
          "text": [
            "ARKHAMCITY\n"
          ]
        }
      ]
    },
    {
      "cell_type": "code",
      "metadata": {
        "id": "N8EwJ0tgRPoL"
      },
      "source": [],
      "execution_count": null,
      "outputs": []
    }
  ]
}
